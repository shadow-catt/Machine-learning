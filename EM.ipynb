{
 "cells": [
  {
   "cell_type": "code",
   "execution_count": 4,
   "id": "1e67c29c",
   "metadata": {},
   "outputs": [],
   "source": [
    "import numpy as np\n",
    "data = np.array([180,170,166,175,160,155,165,162,150])\n",
    "def w(x,if_f):\n",
    "    mean_f = 159\n",
    "    sigma_f = 25\n",
    "    mean_m = 170\n",
    "    sigma_m = 20\n",
    "    f_pi=0.5\n",
    "    m_pi=0.5\n",
    "    upper = 0\n",
    "    p_f = 1/np.sqrt(2*np.pi*sigma_f)*np.exp(-1*np.power(x-mean_f,2)/(2*sigma_f))\n",
    "    p_m = 1/np.sqrt(2*np.pi*sigma_m)*np.exp(-1*np.power(x-mean_m,2)/(2*sigma_m))\n",
    "    \n",
    "    pp_f = f_pi*p_f\n",
    "    pp_m = m_pi*p_m\n",
    "    if(if_f):\n",
    "        upper = pp_f\n",
    "    else:\n",
    "        upper = pp_m\n",
    "    return upper/(pp_f+pp_m)"
   ]
  },
  {
   "cell_type": "code",
   "execution_count": 5,
   "id": "f79b3647",
   "metadata": {},
   "outputs": [
    {
     "name": "stdout",
     "output_type": "stream",
     "text": [
      "[0.00366714 0.04815056 0.0448711  0.02411273 0.04276552 0.02913002\n",
      " 0.04329293 0.04232767 0.00789704]\n",
      "[0.00366714 0.04815056 0.0448711  0.02411273 0.04276552 0.02913002\n",
      " 0.04329293 0.04232767 0.00789704]\n"
     ]
    },
    {
     "data": {
      "text/html": [
       "<div>\n",
       "<style scoped>\n",
       "    .dataframe tbody tr th:only-of-type {\n",
       "        vertical-align: middle;\n",
       "    }\n",
       "\n",
       "    .dataframe tbody tr th {\n",
       "        vertical-align: top;\n",
       "    }\n",
       "\n",
       "    .dataframe thead th {\n",
       "        text-align: right;\n",
       "    }\n",
       "</style>\n",
       "<table border=\"1\" class=\"dataframe\">\n",
       "  <thead>\n",
       "    <tr style=\"text-align: right;\">\n",
       "      <th></th>\n",
       "      <th>w_f</th>\n",
       "      <th>w_m</th>\n",
       "    </tr>\n",
       "  </thead>\n",
       "  <tbody>\n",
       "    <tr>\n",
       "      <th>0</th>\n",
       "      <td>0.001607</td>\n",
       "      <td>0.998393</td>\n",
       "    </tr>\n",
       "    <tr>\n",
       "      <th>1</th>\n",
       "      <td>0.073674</td>\n",
       "      <td>0.926326</td>\n",
       "    </tr>\n",
       "    <tr>\n",
       "      <th>2</th>\n",
       "      <td>0.333684</td>\n",
       "      <td>0.666316</td>\n",
       "    </tr>\n",
       "    <tr>\n",
       "      <th>3</th>\n",
       "      <td>0.009887</td>\n",
       "      <td>0.990113</td>\n",
       "    </tr>\n",
       "    <tr>\n",
       "      <th>4</th>\n",
       "      <td>0.914388</td>\n",
       "      <td>0.085612</td>\n",
       "    </tr>\n",
       "    <tr>\n",
       "      <th>5</th>\n",
       "      <td>0.994478</td>\n",
       "      <td>0.005522</td>\n",
       "    </tr>\n",
       "    <tr>\n",
       "      <th>6</th>\n",
       "      <td>0.448540</td>\n",
       "      <td>0.551460</td>\n",
       "    </tr>\n",
       "    <tr>\n",
       "      <th>7</th>\n",
       "      <td>0.787250</td>\n",
       "      <td>0.212750</td>\n",
       "    </tr>\n",
       "    <tr>\n",
       "      <th>8</th>\n",
       "      <td>0.999744</td>\n",
       "      <td>0.000256</td>\n",
       "    </tr>\n",
       "  </tbody>\n",
       "</table>\n",
       "</div>"
      ],
      "text/plain": [
       "        w_f       w_m\n",
       "0  0.001607  0.998393\n",
       "1  0.073674  0.926326\n",
       "2  0.333684  0.666316\n",
       "3  0.009887  0.990113\n",
       "4  0.914388  0.085612\n",
       "5  0.994478  0.005522\n",
       "6  0.448540  0.551460\n",
       "7  0.787250  0.212750\n",
       "8  0.999744  0.000256"
      ]
     },
     "execution_count": 5,
     "metadata": {},
     "output_type": "execute_result"
    }
   ],
   "source": [
    "import pandas as pd\n",
    "pd.DataFrame(np.array([w(data,1),w(data,0)]).T,columns=['w_f','w_m'])"
   ]
  },
  {
   "cell_type": "code",
   "execution_count": 39,
   "id": "1045b9b6",
   "metadata": {},
   "outputs": [
    {
     "data": {
      "text/plain": [
       "(0.5070279505671575, 0.49297204943284245)"
      ]
     },
     "execution_count": 39,
     "metadata": {},
     "output_type": "execute_result"
    }
   ],
   "source": [
    "pi_f=np.mean(w(data,1))\n",
    "pi_m=np.mean(w(data,0))\n",
    "pi_f,pi_m"
   ]
  },
  {
   "cell_type": "code",
   "execution_count": 40,
   "id": "1b9d67e7",
   "metadata": {},
   "outputs": [
    {
     "data": {
      "text/plain": [
       "(158.19573279889488, 171.54749378910807)"
      ]
     },
     "execution_count": 40,
     "metadata": {},
     "output_type": "execute_result"
    }
   ],
   "source": [
    "mu_f = np.sum(w(data,1)*data)/np.sum(w(data,1))\n",
    "mu_m = np.sum(w(data,0)*data)/np.sum(w(data,0))\n",
    "mu_f,mu_m"
   ]
  },
  {
   "cell_type": "code",
   "execution_count": 42,
   "id": "0c80b5e8",
   "metadata": {},
   "outputs": [
    {
     "data": {
      "text/plain": [
       "(32.12430472494981, 36.499048018268084)"
      ]
     },
     "execution_count": 42,
     "metadata": {},
     "output_type": "execute_result"
    }
   ],
   "source": [
    "sigma_f = np.sum(w(data,1)*np.power(data-mu_f,2))/np.sum(w(data,1))\n",
    "sigma_m = np.sum(w(data,0)*np.power(data-mu_m,2))/np.sum(w(data,0))\n",
    "sigma_f,sigma_m"
   ]
  },
  {
   "cell_type": "code",
   "execution_count": 1,
   "id": "df2d2ca1",
   "metadata": {},
   "outputs": [
    {
     "data": {
      "text/plain": [
       "2.25"
      ]
     },
     "execution_count": 1,
     "metadata": {},
     "output_type": "execute_result"
    }
   ],
   "source": [
    "9/4"
   ]
  },
  {
   "cell_type": "code",
   "execution_count": null,
   "id": "b134a494",
   "metadata": {},
   "outputs": [],
   "source": []
  }
 ],
 "metadata": {
  "kernelspec": {
   "display_name": "Python 3",
   "language": "python",
   "name": "python3"
  },
  "language_info": {
   "codemirror_mode": {
    "name": "ipython",
    "version": 3
   },
   "file_extension": ".py",
   "mimetype": "text/x-python",
   "name": "python",
   "nbconvert_exporter": "python",
   "pygments_lexer": "ipython3",
   "version": "3.8.8"
  }
 },
 "nbformat": 4,
 "nbformat_minor": 5
}
